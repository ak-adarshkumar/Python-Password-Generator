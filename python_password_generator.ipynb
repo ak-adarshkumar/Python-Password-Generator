{
 "cells": [
  {
   "cell_type": "code",
   "execution_count": 1,
   "id": "31636ce4-ab58-4018-bce5-cbb172af1942",
   "metadata": {},
   "outputs": [],
   "source": [
    "import random\n"
   ]
  },
  {
   "cell_type": "code",
   "execution_count": 5,
   "id": "199055b3-7565-45d7-aea2-93258965b3c3",
   "metadata": {},
   "outputs": [
    {
     "name": "stdout",
     "output_type": "stream",
     "text": [
      "Welcome to the PyPassword Generator!\n"
     ]
    },
    {
     "name": "stdin",
     "output_type": "stream",
     "text": [
      "How many letters would you like in your password?\n",
      " 3\n",
      "How many symbols would you like?\n",
      " 4\n",
      "How many numbers would you like?\n",
      " 5\n"
     ]
    },
    {
     "name": "stdout",
     "output_type": "stream",
     "text": [
      " $5+9(Z1G0y0!\n"
     ]
    }
   ],
   "source": [
    "letters = ['a', 'b', 'c', 'd', 'e', 'f', 'g', 'h', 'i', 'j', 'k', 'l', 'm', 'n', 'o', 'p', 'q', 'r', 's', 't', 'u', 'v', 'w', 'x', 'y', 'z', 'A', 'B', 'C', 'D', 'E', 'F', 'G', 'H', 'I', 'J', 'K', 'L', 'M', 'N', 'O', 'P', 'Q', 'R', 'S', 'T', 'U', 'V', 'W', 'X', 'Y', 'Z']\n",
    "numbers = ['0', '1', '2', '3', '4', '5', '6', '7', '8', '9']\n",
    "symbols = ['!', '#', '$', '%', '&', '(', ')', '*', '+']\n",
    "\n",
    "print(\"Welcome to the PyPassword Generator!\")\n",
    "nr_letters= int(input(\"How many letters would you like in your password?\\n\")) \n",
    "nr_symbols = int(input(f\"How many symbols would you like?\\n\"))\n",
    "nr_numbers = int(input(f\"How many numbers would you like?\\n\"))\n",
    "password = []\n",
    "for no_of_letters in range(1,nr_letters+1):\n",
    "    password.append(random.choice(letters))\n",
    "\n",
    "for no_of_symbols in range(1,nr_symbols+1):\n",
    "    password.append(random.choice(symbols))\n",
    "\n",
    "for no_of_numbers in range(1,nr_numbers+1):\n",
    "    password.append(random.choice(numbers))\n",
    "random.shuffle(password)\n",
    "s_password =\" \"\n",
    "for p in password :\n",
    "    s_password += p\n",
    "print(s_password)"
   ]
  },
  {
   "cell_type": "code",
   "execution_count": null,
   "id": "27e58b8f-91cc-404d-add0-b4f258e251f6",
   "metadata": {},
   "outputs": [],
   "source": []
  }
 ],
 "metadata": {
  "kernelspec": {
   "display_name": "Python 3 (ipykernel)",
   "language": "python",
   "name": "python3"
  },
  "language_info": {
   "codemirror_mode": {
    "name": "ipython",
    "version": 3
   },
   "file_extension": ".py",
   "mimetype": "text/x-python",
   "name": "python",
   "nbconvert_exporter": "python",
   "pygments_lexer": "ipython3",
   "version": "3.11.7"
  }
 },
 "nbformat": 4,
 "nbformat_minor": 5
}
